{
 "cells": [
  {
   "cell_type": "markdown",
   "metadata": {
    "toc": "true"
   },
   "source": [
    "# Table of Contents\n",
    " <p><div class=\"lev1 toc-item\"><a href=\"#Применение-алгоритмов-машинного-обучения-для-задачи-банковского-скоринга\" data-toc-modified-id=\"Применение-алгоритмов-машинного-обучения-для-задачи-банковского-скоринга-1\"><span class=\"toc-item-num\">1&nbsp;&nbsp;</span>Применение алгоритмов машинного обучения для задачи банковского скоринга</a></div>"
   ]
  },
  {
   "cell_type": "markdown",
   "metadata": {},
   "source": [
    "# Применение алгоритмов машинного обучения для задачи банковского скоринга"
   ]
  },
  {
   "cell_type": "markdown",
   "metadata": {},
   "source": [
    "Входными данными являются наборы для обучения и для тестирования:\n",
    "* bank_scoring_train.csv.gz\n",
    "* bank_scoring_test.csv.gz"
   ]
  },
  {
   "cell_type": "markdown",
   "metadata": {
    "collapsed": true
   },
   "source": [
    "Описание полей:\n",
    "* SeriousDlqin2yrs - Флаг выхода на просрочку через 90 дней\n",
    "* RevolvingUtilizationOfUnsecuredLines - Общий баланс по кредитным картам и личным кредитным линиям, за исключением недвижимости, и без задолженности по кредитам, таким как автокредиты, деленные на сумму кредитных лимитов\n",
    "* age - Возраст заёмщика в годах\n",
    "* NumberOfTime30-59DaysPastDueNotWorse - Сколько раз заемщик просрочил выплату не более, чем на 30-59 дней, за последние 2 года.\n",
    "* DebtRatio - Ежемесячные платежи по долгам, алименты и прожиточные расходы, делённые на месячный валовый доход\n",
    "* MonthlyIncome - Ежемесячный доход\n",
    "* NumberOfOpenCreditLinesAndLoans - Количество открытых кредитов (например, автокредит или закладная, кредитные карты и т.д.)\n",
    "* NumberOfTimes90DaysLate - Сколько раз заёмщик просрочил выплату на 90 дней и более.\n",
    "* NumberRealEstateLoansOrLines - Количество ипотечных кредитов и кредитов на недвижимость\n",
    "* NumberOfTime60-89DaysPastDueNotWorse - Сколько раз заёмщик просрочил выплату не более, чем на 60-89 дней, за последние 2 года.\n",
    "* NumberOfDependents - Количество иждивенцев в семье, исключая самого заёмщика (супруга, дети и т.д.)"
   ]
  },
  {
   "cell_type": "markdown",
   "metadata": {},
   "source": [
    "Целевой переменной является SeriousDlqin2yrs"
   ]
  },
  {
   "cell_type": "markdown",
   "metadata": {},
   "source": [
    "** Рекомендации по использованию моделей, метрик и кросс-валидации представлены в compare_algorithms_emp **"
   ]
  },
  {
   "cell_type": "code",
   "execution_count": 1,
   "metadata": {
    "collapsed": true
   },
   "outputs": [],
   "source": [
    "import pandas as pd\n",
    "import numpy as np\n",
    "import sklearn"
   ]
  },
  {
   "cell_type": "code",
   "execution_count": 2,
   "metadata": {
    "collapsed": true
   },
   "outputs": [],
   "source": [
    "Train = pd.read_csv('bank_scoring_train.csv', sep='\\t')"
   ]
  },
  {
   "cell_type": "code",
   "execution_count": 3,
   "metadata": {
    "collapsed": true
   },
   "outputs": [],
   "source": [
    "Test = pd.read_csv('bank_scoring_test.csv', sep='\\t')"
   ]
  },
  {
   "cell_type": "code",
   "execution_count": 4,
   "metadata": {},
   "outputs": [
    {
     "data": {
      "text/plain": [
       "(96216, 11)"
      ]
     },
     "execution_count": 4,
     "metadata": {},
     "output_type": "execute_result"
    }
   ],
   "source": [
    "Train.shape"
   ]
  },
  {
   "cell_type": "code",
   "execution_count": 5,
   "metadata": {
    "collapsed": true
   },
   "outputs": [],
   "source": [
    "X_train = Train.iloc[:,1:]\n",
    "y_train = Train.iloc[:,0]\n",
    "X_test = Test.iloc[:,1:]\n",
    "y_test = Test.iloc[:,0]"
   ]
  },
  {
   "cell_type": "code",
   "execution_count": 8,
   "metadata": {},
   "outputs": [],
   "source": [
    "from sklearn.neighbors import KNeighborsClassifier\n",
    "from sklearn.tree import DecisionTreeClassifier\n",
    "from sklearn.linear_model import LogisticRegression\n",
    "from sklearn.svm import SVC\n",
    "from sklearn.metrics import f1_score\n",
    "from sklearn.metrics import roc_auc_score\n",
    "from sklearn.metrics import accuracy_score\n",
    "from sklearn.ensemble import RandomForestClassifier"
   ]
  },
  {
   "cell_type": "code",
   "execution_count": 10,
   "metadata": {},
   "outputs": [],
   "source": [
    "LR = LogisticRegression()\n",
    "KN = KNeighborsClassifier()\n",
    "DTC = DecisionTreeClassifier()\n",
    "SV = SVC()\n",
    "RFC = RandomForestClassifier()"
   ]
  },
  {
   "cell_type": "code",
   "execution_count": 11,
   "metadata": {},
   "outputs": [
    {
     "name": "stdout",
     "output_type": "stream",
     "text": [
      "ROC for DTC:  0.828698135634\n",
      "accuracy for DTC:  0.933854404856\n",
      "f1 for DTC:  0.219715546837\n"
     ]
    }
   ],
   "source": [
    "DTC = DecisionTreeClassifier(max_depth = 5)\n",
    "DTC.fit(X_train,y_train)\n",
    "print('ROC for DTC: ',roc_auc_score(y_test,DTC.predict_proba(X_test)[:,1]))\n",
    "print('accuracy for DTC: ',accuracy_score(y_test,DTC.predict(X_test)))\n",
    "print('f1 for DTC: ',f1_score(y_test,DTC.predict(X_test)))"
   ]
  },
  {
   "cell_type": "code",
   "execution_count": 12,
   "metadata": {},
   "outputs": [
    {
     "name": "stdout",
     "output_type": "stream",
     "text": [
      "ROC for LR:  0.698236645585\n",
      "accuracy for LR:  0.931650937513\n",
      "f1 for LR:  0.0452961672474\n"
     ]
    }
   ],
   "source": [
    "LR = LogisticRegression(C = 0.01, penalty = 'l1')\n",
    "LR.fit(X_train,y_train)\n",
    "print('ROC for LR: ',roc_auc_score(y_test,LR.predict_proba(X_test)[:,1]))\n",
    "print('accuracy for LR: ',accuracy_score(y_test,LR.predict(X_test)))\n",
    "print('f1 for LR: ',f1_score(y_test,LR.predict(X_test)))"
   ]
  },
  {
   "cell_type": "code",
   "execution_count": 13,
   "metadata": {},
   "outputs": [
    {
     "name": "stdout",
     "output_type": "stream",
     "text": [
      "ROC for KN:  0.776275854062\n",
      "accuracy for KN:  0.929530619881\n",
      "f1 for KN:  0.194774346793\n"
     ]
    }
   ],
   "source": [
    "KN = KNeighborsClassifier()\n",
    "KN.fit(X_train,y_train)\n",
    "print('ROC for KN: ',roc_auc_score(y_test,KN.predict_proba(X_test)[:,1]))\n",
    "print('accuracy for KN: ',accuracy_score(y_test,KN.predict(X_test)))\n",
    "print('f1 for KN: ',f1_score(y_test,KN.predict(X_test)))"
   ]
  },
  {
   "cell_type": "code",
   "execution_count": 31,
   "metadata": {},
   "outputs": [
    {
     "name": "stdout",
     "output_type": "stream",
     "text": [
      "ROC for RFC:  0.94817112568\n",
      "accuracy for RFC:  0.970273978298\n",
      "f1 for RFC:  0.742713206189\n"
     ]
    }
   ],
   "source": [
    "RFC = RandomForestClassifier(random_state = 1,n_estimators=1000, max_depth=None )\n",
    "RFC.fit(X_train,y_train)\n",
    "print('ROC for RFC: ',roc_auc_score(y_test,RFC.predict_proba(X_test)[:,1]))\n",
    "print('accuracy for RFC: ',accuracy_score(y_test,RFC.predict(X_test)))\n",
    "print('f1 for RFC: ',f1_score(y_test,RFC.predict(X_test)))"
   ]
  }
 ],
 "metadata": {
  "kernelspec": {
   "display_name": "Python 3",
   "language": "python",
   "name": "python3"
  },
  "language_info": {
   "codemirror_mode": {
    "name": "ipython",
    "version": 3
   },
   "file_extension": ".py",
   "mimetype": "text/x-python",
   "name": "python",
   "nbconvert_exporter": "python",
   "pygments_lexer": "ipython3",
   "version": "3.5.2"
  },
  "toc": {
   "colors": {
    "hover_highlight": "#DAA520",
    "navigate_num": "#000000",
    "navigate_text": "#333333",
    "running_highlight": "#FF0000",
    "selected_highlight": "#FFD700",
    "sidebar_border": "#EEEEEE",
    "wrapper_background": "#FFFFFF"
   },
   "moveMenuLeft": true,
   "nav_menu": {
    "height": "40px",
    "width": "252px"
   },
   "navigate_menu": true,
   "number_sections": true,
   "sideBar": true,
   "threshold": 4,
   "toc_cell": true,
   "toc_section_display": "block",
   "toc_window_display": false,
   "widenNotebook": false
  }
 },
 "nbformat": 4,
 "nbformat_minor": 2
}
